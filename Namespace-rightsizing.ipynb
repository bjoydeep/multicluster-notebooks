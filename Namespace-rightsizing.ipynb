{
 "cells": [
  {
   "cell_type": "code",
   "execution_count": 19,
   "metadata": {},
   "outputs": [],
   "source": [
    "%%capture\n",
    "pip install matplotlib"
   ]
  },
  {
   "cell_type": "code",
   "execution_count": 20,
   "metadata": {},
   "outputs": [],
   "source": [
    "import matplotlib.pyplot as plt\n",
    "import os\n",
    "import numpy as np\n",
    "import sys\n",
    "import datetime\n",
    "import pandas\n",
    "import json\n",
    "import seaborn as sns\n",
    "# Set default Seaborn style\n",
    "sns.set(style=\"darkgrid\")\n",
    "sns.set_context(\"talk\", font_scale=1.4)\n",
    "## hides ipython warnings\n",
    "import warnings\n",
    "warnings.filterwarnings('ignore')\n",
    "plt.rcParams['figure.figsize'] = (30, 10)\n",
    "#plt.rcParams['figure.figsize'] = (20, 5)"
   ]
  },
  {
   "cell_type": "markdown",
   "metadata": {},
   "source": [
    "# General Discussions\n"
   ]
  },
  {
   "cell_type": "markdown",
   "metadata": {},
   "source": [
    "_Pick a_\n",
    "1. Namespace aka Project or Application\n",
    "1. Time range\n",
    "\n",
    "We will look at the data of the namespace for the selected time range and give a recommendation for CPU and Memory"
   ]
  },
  {
   "cell_type": "markdown",
   "metadata": {},
   "source": [
    "## CPU\n",
    "The key thing to remember is that CPU is compressible resource. And if a container does not get the cores it needs, it does fail. But the application's response may get sluggish."
   ]
  },
  {
   "cell_type": "markdown",
   "metadata": {},
   "source": [
    "We need to determine the CPU Utilization pattern of the aggregate pods.\n",
    "1. The CPU may be flattish\n",
    "1. The CPU may not have any patterns\n",
    "1. The CPU may have a trend, seasonality and that may need to accounted for.\n",
    "\n",
    "Naive method is to take the peak CPU and use that as a recommendation. But this _does not work_ at all times. \n",
    "- In TS-6, sizing by the peak will be a waste. \n",
    "- In TS-5 on the other hand - the peaks are almost regular occurrence.\n",
    "- In TS-10 (really this is air traffic volume - but y axis could easily be imaginged to be CPU) we have a time series with a trend and seasonality.\n",
    "\n",
    "__Question__ : \n",
    "1. Is there only 2 ways of analyzing depending on if CPU may have a trend, seasonality and that may need to accounted for.\n",
    "1. Can we also do any useful work with Request Value set? or are we really in the business of focusing on real usage? \n"
   ]
  },
  {
   "cell_type": "code",
   "execution_count": 21,
   "metadata": {},
   "outputs": [],
   "source": [
    "def determinePatternofCPU():\n",
    "    \"\"\"\n",
    "    Takes the raw CPU as a timeseries\n",
    "    The timeseries consists of dataframe that only has time and CPU value\n",
    "    Args:\n",
    "      Tcpu : dataframe      \n",
    "    Returns:\n",
    "      cpu_is_flat : boolean\n",
    "      cpu_has_irregular_patterns : boolean\n",
    "      cpu_has_regular_patterns: boolean\n",
    "    Question: are these return codes mutually exclusive??  And are these enough. \n",
    "    Or do we need to do something different?\n",
    "    \"\"\"    \n",
    "    return True,False,False"
   ]
  },
  {
   "cell_type": "code",
   "execution_count": 27,
   "metadata": {},
   "outputs": [],
   "source": [
    "def giveRecommendation(cpu_is_flat, cpu_has_irregular_patterns, cpu_has_regular_patterns):\n",
    "    \"\"\"\n",
    "    Takes the raw CPU as a timeseries\n",
    "    The timeseries consists of dataframe that only has time and CPU value\n",
    "    Args:\n",
    "      cpu_is_flat : boolean\n",
    "      cpu_has_irregular_patterns : boolean\n",
    "      cpu_has_regular_patterns: boolean      \n",
    "    Returns:\n",
    "      recValue : float\n",
    "      reason : string\n",
    "    Note: We have to let the user know \"why\" we recommended this value. \n",
    "    This will be more than a string. Reason (string) is just a place holder to think more. \n",
    "    The dizzying array of patterns is a good clue on why we need to say why we recommend.  \n",
    "    \"\"\"   \n",
    "    recValue = 100.00\n",
    "    reason = \"This is the maximum CPU value in the distribution\"\n",
    "    return recValue,reason"
   ]
  },
  {
   "cell_type": "code",
   "execution_count": 28,
   "metadata": {},
   "outputs": [
    {
     "name": "stdout",
     "output_type": "stream",
     "text": [
      "CPU trend is observed to be flat over the given timeframe for the namespace.\n"
     ]
    }
   ],
   "source": [
    "cpu_is_flat, cpu_has_irregular_patterns, cpu_has_regular_patterns = determinePatternofCPU()\n",
    "\n",
    "if (cpu_is_flat):\n",
    "    print(\"CPU trend is observed to be flat over the given timeframe for the namespace.\")\n",
    "    giveRecommendation(cpu_is_flat, cpu_has_irregular_patterns, cpu_has_regular_patterns)\n",
    "elif (cpu_has_irregular_patterns):\n",
    "    print(\"CPU trend is observed to have no discernible pattern over the given timeframe for the namespace.\")\n",
    "    giveRecommendation(cpu_is_flat, cpu_has_irregular_patterns, cpu_has_regular_patterns)\n",
    "elif (cpu_has_regular_patterns):\n",
    "    print(\"CPU does display trend and/or seasonality over the given timeframe for the namespace.\")\n",
    "    giveRecommendation(cpu_is_flat, cpu_has_irregular_patterns, cpu_has_regular_patterns)\n",
    "else:\n",
    "    print(\"Unknown Pattern. Investigate!\")"
   ]
  },
  {
   "cell_type": "markdown",
   "metadata": {},
   "source": [
    "__Several CPU series are shown here meant to show the challenge of the job.__"
   ]
  },
  {
   "cell_type": "markdown",
   "metadata": {},
   "source": [
    "#### TS-1\n",
    "![ts-1](./figures/ts_1.png)\n",
    "\n",
    "#### TS-2\n",
    "![ts-2](./figures/ts_2.png)\n",
    "\n",
    "#### TS-3\n",
    "![ts-3](./figures/ts_3.png)\n",
    "\n",
    "#### TS-4\n",
    "![ts-4](./figures/ts_4.png)\n",
    "\n",
    "#### TS-5\n",
    "![ts-5](./figures/ts_5.png)\n",
    "\n",
    "\n",
    "#### TS-6\n",
    "![ts-7](./figures/ts_7.png)\n",
    "\n",
    "#### TS-7\n",
    "![ts-8](./figures/ts_8.png)\n",
    "\n",
    "#### TS-8\n",
    "![ts-9](./figures/ts_9.png)\n",
    "\n",
    "#### TS-9\n",
    "![ts-10](./figures/ts_10.png)\n",
    "\n",
    "#### TS-10\n",
    "![ts-11](./figures/ts_11.png)\n"
   ]
  },
  {
   "cell_type": "markdown",
   "metadata": {},
   "source": [
    "## Memory\n",
    "Do the same analysis for Memory\n",
    "There is a big differenence for memory though - if memory is not available, the pod will crash."
   ]
  },
  {
   "cell_type": "code",
   "execution_count": null,
   "metadata": {},
   "outputs": [],
   "source": []
  }
 ],
 "metadata": {
  "kernelspec": {
   "display_name": "Python 3 (ipykernel)",
   "language": "python",
   "name": "python3"
  },
  "language_info": {
   "codemirror_mode": {
    "name": "ipython",
    "version": 3
   },
   "file_extension": ".py",
   "mimetype": "text/x-python",
   "name": "python",
   "nbconvert_exporter": "python",
   "pygments_lexer": "ipython3",
   "version": "3.9.12"
  }
 },
 "nbformat": 4,
 "nbformat_minor": 4
}
